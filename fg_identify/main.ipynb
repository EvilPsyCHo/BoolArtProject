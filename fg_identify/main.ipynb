{
 "cells": [
  {
   "cell_type": "code",
   "execution_count": 5,
   "id": "d70b0f49",
   "metadata": {},
   "outputs": [],
   "source": [
    "import pandas as pd\n",
    "import numpy as np\n",
    "\n",
    "from pathlib import Path\n",
    "import json\n",
    "import cv2\n",
    "\n",
    "import matplotlib.pyplot as plt\n",
    "from infer import LitModule, get_embeddings, get_similarity, run_predict\n",
    "from score import score_preds\n",
    "%matplotlib inline"
   ]
  },
  {
   "cell_type": "code",
   "execution_count": 6,
   "id": "c5d9a1e3",
   "metadata": {},
   "outputs": [],
   "source": [
    "# model = \"/data/hse/model/data25_convnext_small_ep10_img256/\"\n",
    "# device = \"cuda:0\"\n",
    "# name = \"convnext_256\"\n",
    "# gt_path = \"/data/hse/data/\""
   ]
  },
  {
   "cell_type": "code",
   "execution_count": 7,
   "id": "55d63612",
   "metadata": {},
   "outputs": [],
   "source": [
    "# run_predict(name, model, device, \"dev\")\n",
    "# run_predict(name, model, device, \"test\")\n",
    "# score_preds(\"/data/hse/prediction/convnext_256/dev_small/preds.tsv\", gt_path, [\"tdev\"], None)"
   ]
  },
  {
   "cell_type": "code",
   "execution_count": 10,
   "id": "5eddac70",
   "metadata": {},
   "outputs": [],
   "source": [
    "path = \"/data/hse/data/data_25/\""
   ]
  },
  {
   "cell_type": "code",
   "execution_count": 14,
   "id": "b6ec4aa2",
   "metadata": {},
   "outputs": [],
   "source": [
    "individual_id = []\n",
    "image_path = []\n",
    "image_size = []\n",
    "\n",
    "for path in Path(\"/data/hse/data/data_25/\").glob(\"*/*g\"):\n",
    "    iid = str(path.parent.name)\n",
    "    img = cv2.imread(str(path))\n",
    "    if img is not None:\n",
    "        individual_id.append(iid)\n",
    "        image_path.append(str(path))\n",
    "        image_size.append(img.shape[:2])\n",
    "\n"
   ]
  },
  {
   "cell_type": "code",
   "execution_count": 15,
   "id": "b6433b00",
   "metadata": {},
   "outputs": [],
   "source": [
    "df = pd.DataFrame({\"individual_id\": individual_id, \"image_path\": image_path, \"image_size\": image_size})"
   ]
  },
  {
   "cell_type": "code",
   "execution_count": 16,
   "id": "78755554",
   "metadata": {},
   "outputs": [],
   "source": [
    "df = df.sample(frac=1.).reset_index(drop=True)\n",
    "train = df.iloc[:-1000]\n",
    "val = df.iloc[-1000:].reset_index(drop=True)\n",
    "train.to_csv(\"/data/hse/data/train.csv\", index=False)\n",
    "val.to_csv(\"/data/hse/data/val.csv\", index=False)"
   ]
  },
  {
   "cell_type": "code",
   "execution_count": 17,
   "id": "8e282ad0",
   "metadata": {},
   "outputs": [
    {
     "data": {
      "text/html": [
       "<div>\n",
       "<style scoped>\n",
       "    .dataframe tbody tr th:only-of-type {\n",
       "        vertical-align: middle;\n",
       "    }\n",
       "\n",
       "    .dataframe tbody tr th {\n",
       "        vertical-align: top;\n",
       "    }\n",
       "\n",
       "    .dataframe thead th {\n",
       "        text-align: right;\n",
       "    }\n",
       "</style>\n",
       "<table border=\"1\" class=\"dataframe\">\n",
       "  <thead>\n",
       "    <tr style=\"text-align: right;\">\n",
       "      <th></th>\n",
       "      <th>individual_id</th>\n",
       "      <th>image_path</th>\n",
       "      <th>image_size</th>\n",
       "    </tr>\n",
       "  </thead>\n",
       "  <tbody>\n",
       "    <tr>\n",
       "      <th>0</th>\n",
       "      <td>rl312068</td>\n",
       "      <td>/data/hse/data/data_25/rl312068/546810.jpg</td>\n",
       "      <td>(534, 400)</td>\n",
       "    </tr>\n",
       "    <tr>\n",
       "      <th>1</th>\n",
       "      <td>rl239976</td>\n",
       "      <td>/data/hse/data/data_25/rl239976/423806.jpg</td>\n",
       "      <td>(267, 200)</td>\n",
       "    </tr>\n",
       "    <tr>\n",
       "      <th>2</th>\n",
       "      <td>rl409994</td>\n",
       "      <td>/data/hse/data/data_25/rl409994/711975.png</td>\n",
       "      <td>(344, 400)</td>\n",
       "    </tr>\n",
       "    <tr>\n",
       "      <th>3</th>\n",
       "      <td>rf418509</td>\n",
       "      <td>/data/hse/data/data_25/rf418509/725686.jpg</td>\n",
       "      <td>(292, 400)</td>\n",
       "    </tr>\n",
       "    <tr>\n",
       "      <th>4</th>\n",
       "      <td>rl263572</td>\n",
       "      <td>/data/hse/data/data_25/rl263572/463769.jpg</td>\n",
       "      <td>(534, 400)</td>\n",
       "    </tr>\n",
       "    <tr>\n",
       "      <th>...</th>\n",
       "      <td>...</td>\n",
       "      <td>...</td>\n",
       "      <td>...</td>\n",
       "    </tr>\n",
       "    <tr>\n",
       "      <th>87567</th>\n",
       "      <td>rf303502</td>\n",
       "      <td>/data/hse/data/data_25/rf303502/532165.jpg</td>\n",
       "      <td>(540, 400)</td>\n",
       "    </tr>\n",
       "    <tr>\n",
       "      <th>87568</th>\n",
       "      <td>rf156578</td>\n",
       "      <td>/data/hse/data/data_25/rf156578/268547.jpg</td>\n",
       "      <td>(267, 200)</td>\n",
       "    </tr>\n",
       "    <tr>\n",
       "      <th>87569</th>\n",
       "      <td>rl348006</td>\n",
       "      <td>/data/hse/data/data_25/rl348006/608272.jpg</td>\n",
       "      <td>(534, 400)</td>\n",
       "    </tr>\n",
       "    <tr>\n",
       "      <th>87570</th>\n",
       "      <td>rf357156</td>\n",
       "      <td>/data/hse/data/data_25/rf357156/623748.jpg</td>\n",
       "      <td>(400, 400)</td>\n",
       "    </tr>\n",
       "    <tr>\n",
       "      <th>87571</th>\n",
       "      <td>rl329958</td>\n",
       "      <td>/data/hse/data/data_25/rl329958/576995.jpg</td>\n",
       "      <td>(712, 400)</td>\n",
       "    </tr>\n",
       "  </tbody>\n",
       "</table>\n",
       "<p>87572 rows × 3 columns</p>\n",
       "</div>"
      ],
      "text/plain": [
       "      individual_id                                  image_path  image_size\n",
       "0          rl312068  /data/hse/data/data_25/rl312068/546810.jpg  (534, 400)\n",
       "1          rl239976  /data/hse/data/data_25/rl239976/423806.jpg  (267, 200)\n",
       "2          rl409994  /data/hse/data/data_25/rl409994/711975.png  (344, 400)\n",
       "3          rf418509  /data/hse/data/data_25/rf418509/725686.jpg  (292, 400)\n",
       "4          rl263572  /data/hse/data/data_25/rl263572/463769.jpg  (534, 400)\n",
       "...             ...                                         ...         ...\n",
       "87567      rf303502  /data/hse/data/data_25/rf303502/532165.jpg  (540, 400)\n",
       "87568      rf156578  /data/hse/data/data_25/rf156578/268547.jpg  (267, 200)\n",
       "87569      rl348006  /data/hse/data/data_25/rl348006/608272.jpg  (534, 400)\n",
       "87570      rf357156  /data/hse/data/data_25/rf357156/623748.jpg  (400, 400)\n",
       "87571      rl329958  /data/hse/data/data_25/rl329958/576995.jpg  (712, 400)\n",
       "\n",
       "[87572 rows x 3 columns]"
      ]
     },
     "execution_count": 17,
     "metadata": {},
     "output_type": "execute_result"
    }
   ],
   "source": [
    "train"
   ]
  },
  {
   "cell_type": "code",
   "execution_count": null,
   "id": "99d7e335",
   "metadata": {},
   "outputs": [],
   "source": []
  }
 ],
 "metadata": {
  "kernelspec": {
   "display_name": "Python 3 (ipykernel)",
   "language": "python",
   "name": "python3"
  },
  "language_info": {
   "codemirror_mode": {
    "name": "ipython",
    "version": 3
   },
   "file_extension": ".py",
   "mimetype": "text/x-python",
   "name": "python",
   "nbconvert_exporter": "python",
   "pygments_lexer": "ipython3",
   "version": "3.8.0"
  }
 },
 "nbformat": 4,
 "nbformat_minor": 5
}
